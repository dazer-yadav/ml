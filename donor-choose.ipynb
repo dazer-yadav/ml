{
 "cells": [
  {
   "cell_type": "markdown",
   "metadata": {
    "colab_type": "text",
    "id": "Dnubs-Nnb3cw"
   },
   "source": [
    "# Assignment 6: Apply NB"
   ]
  },
  {
   "cell_type": "markdown",
   "metadata": {
    "colab_type": "text",
    "id": "12krXa2pb3c1"
   },
   "source": [
    "<ol>\n",
    "    <li><strong>Apply Multinomial NB on these feature sets</strong>\n",
    "        <ul>\n",
    "            <li><font color='red'>Set 1</font>: categorical, numerical features + preprocessed_eassay (BOW)</li>\n",
    "            <li><font color='red'>Set 2</font>: categorical, numerical features + preprocessed_eassay (TFIDF)</li>\n",
    "        </ul>\n",
    "    </li>\n",
    "    <li><strong>The hyper paramter tuning(find best alpha:smoothing parameter)</strong>\n",
    "        <ul>\n",
    "    <li>Find the best hyper parameter which will give the maximum <a href='https://www.appliedaicourse.com/course/applied-ai-course-online/lessons/receiver-operating-characteristic-curve-roc-curve-and-auc-1/'>AUC</a> value</li>\n",
    "    <li>find the best hyper paramter using k-fold cross validation(use GridsearchCV or RandomsearchCV)/simple cross validation data (write for loop to iterate over hyper parameter values)</li>\n",
    "    <li></li>\n",
    "        </ul>\n",
    "    </li>\n",
    "    <li>\n",
    "    <strong>Representation of results</strong>\n",
    "        <ul>\n",
    "    <li>You need to plot the performance of model both on train data and cross validation data for each hyper parameter, like shown in the figure\n",
    "    <img src='https://i.imgur.com/hUv6aEy.jpg' width=300px></li>\n",
    "    <li>Once after you found the best hyper parameter, you need to train your model with it, and find the AUC on test data and plot the ROC curve on both train and test.\n",
    "    <img src='https://i.imgur.com/wMQDTFe.jpg' width=300px></li>\n",
    "    <li>Along with plotting ROC curve, you need to print the <a href='https://www.appliedaicourse.com/course/applied-ai-course-online/lessons/confusion-matrix-tpr-fpr-fnr-tnr-1/'>confusion matrix</a> with predicted and original labels of test data points\n",
    "    <img src='https://i.imgur.com/IdN5Ctv.png' width=300px></li>\n",
    "        </ul>\n",
    "    </li>\n",
    "    <li>\n",
    "fine the top 20 features from either from feature <font color='red'>Set 1</font> or feature <font color='red'>Set 2</font> using absolute values of `feature_log_prob_ ` parameter of `MultinomialNB` \n",
    "(https://scikit-learn.org/stable/modules/generated/sklearn.naive_bayes.MultinomialNB.html) and print their corresponding feature names\n",
    "    </li>\n",
    "    <li>You need to summarize the results at the end of the notebook, summarize it in the table format\n",
    "        <img src='http://i.imgur.com/YVpIGGE.jpg' width=400px>\n",
    "    </li>\n",
    "</ol>"
   ]
  },
  {
   "cell_type": "markdown",
   "metadata": {
    "colab_type": "text",
    "id": "inzYCIaib3c3"
   },
   "source": [
    "<h1>2. Naive Bayes </h1>"
   ]
  },
  {
   "cell_type": "markdown",
   "metadata": {
    "colab_type": "text",
    "id": "FYqCIxzFb3c5"
   },
   "source": [
    "## 1.1 Loading Data"
   ]
  },
  {
   "cell_type": "code",
   "execution_count": 0,
   "metadata": {
    "colab": {},
    "colab_type": "code",
    "id": "dA1jknyqb3c_"
   },
   "outputs": [],
   "source": [
    "import pandas\n",
    "data = pandas.read_csv('preprocessed_data.csv') #Load the data"
   ]
  },
  {
   "cell_type": "code",
   "execution_count": 2,
   "metadata": {
    "colab": {
     "base_uri": "https://localhost:8080/",
     "height": 516
    },
    "colab_type": "code",
    "id": "XWJbSJhM7R-1",
    "outputId": "341da807-30c1-44d5-db29-fd70b11c88c2"
   },
   "outputs": [
    {
     "data": {
      "text/html": [
       "<div>\n",
       "<style scoped>\n",
       "    .dataframe tbody tr th:only-of-type {\n",
       "        vertical-align: middle;\n",
       "    }\n",
       "\n",
       "    .dataframe tbody tr th {\n",
       "        vertical-align: top;\n",
       "    }\n",
       "\n",
       "    .dataframe thead th {\n",
       "        text-align: right;\n",
       "    }\n",
       "</style>\n",
       "<table border=\"1\" class=\"dataframe\">\n",
       "  <thead>\n",
       "    <tr style=\"text-align: right;\">\n",
       "      <th></th>\n",
       "      <th>school_state</th>\n",
       "      <th>teacher_prefix</th>\n",
       "      <th>project_grade_category</th>\n",
       "      <th>teacher_number_of_previously_posted_projects</th>\n",
       "      <th>project_is_approved</th>\n",
       "      <th>clean_categories</th>\n",
       "      <th>clean_subcategories</th>\n",
       "      <th>essay</th>\n",
       "      <th>price</th>\n",
       "    </tr>\n",
       "  </thead>\n",
       "  <tbody>\n",
       "    <tr>\n",
       "      <th>0</th>\n",
       "      <td>ca</td>\n",
       "      <td>mrs</td>\n",
       "      <td>grades_prek_2</td>\n",
       "      <td>53</td>\n",
       "      <td>1</td>\n",
       "      <td>math_science</td>\n",
       "      <td>appliedsciences health_lifescience</td>\n",
       "      <td>i fortunate enough use fairy tale stem kits cl...</td>\n",
       "      <td>725.05</td>\n",
       "    </tr>\n",
       "    <tr>\n",
       "      <th>1</th>\n",
       "      <td>ut</td>\n",
       "      <td>ms</td>\n",
       "      <td>grades_3_5</td>\n",
       "      <td>4</td>\n",
       "      <td>1</td>\n",
       "      <td>specialneeds</td>\n",
       "      <td>specialneeds</td>\n",
       "      <td>imagine 8 9 years old you third grade classroo...</td>\n",
       "      <td>213.03</td>\n",
       "    </tr>\n",
       "    <tr>\n",
       "      <th>2</th>\n",
       "      <td>ca</td>\n",
       "      <td>mrs</td>\n",
       "      <td>grades_prek_2</td>\n",
       "      <td>10</td>\n",
       "      <td>1</td>\n",
       "      <td>literacy_language</td>\n",
       "      <td>literacy</td>\n",
       "      <td>having class 24 students comes diverse learner...</td>\n",
       "      <td>329.00</td>\n",
       "    </tr>\n",
       "    <tr>\n",
       "      <th>3</th>\n",
       "      <td>ga</td>\n",
       "      <td>mrs</td>\n",
       "      <td>grades_prek_2</td>\n",
       "      <td>2</td>\n",
       "      <td>1</td>\n",
       "      <td>appliedlearning</td>\n",
       "      <td>earlydevelopment</td>\n",
       "      <td>i recently read article giving students choice...</td>\n",
       "      <td>481.04</td>\n",
       "    </tr>\n",
       "  </tbody>\n",
       "</table>\n",
       "</div>"
      ],
      "text/plain": [
       "  school_state  ...   price\n",
       "0           ca  ...  725.05\n",
       "1           ut  ...  213.03\n",
       "2           ca  ...  329.00\n",
       "3           ga  ...  481.04\n",
       "\n",
       "[4 rows x 9 columns]"
      ]
     },
     "execution_count": 2,
     "metadata": {
      "tags": []
     },
     "output_type": "execute_result"
    }
   ],
   "source": [
    "data.head(4)"
   ]
  },
  {
   "cell_type": "markdown",
   "metadata": {
    "colab_type": "text",
    "id": "WtVV13Fyb3dH"
   },
   "source": [
    "<h2>1.2 Splitting data into Train and cross validation(or test): Stratified Sampling</h2>"
   ]
  },
  {
   "cell_type": "code",
   "execution_count": 0,
   "metadata": {
    "colab": {},
    "colab_type": "code",
    "id": "i-PyprDNb3dI"
   },
   "outputs": [],
   "source": [
    "# please write all the code with proper documentation, and proper titles for each subsection\n",
    "# go through documentations and blogs before you start coding\n",
    "# first figure out what to do, and then think about how to do.\n",
    "# reading and understanding error messages will be very much helpfull in debugging your code\n",
    "# when you plot any graph make sure you use \n",
    "    # a. Title, that describes your plot, this will be very helpful to the reader\n",
    "    # b. Legends if needed\n",
    "    # c. X-axis label\n",
    "    # d. Y-axis label\n",
    "y = data['project_is_approved'].values\n",
    "X = data.drop(['project_is_approved'],axis=1)"
   ]
  },
  {
   "cell_type": "code",
   "execution_count": 0,
   "metadata": {
    "colab": {},
    "colab_type": "code",
    "id": "veVRdJNt7R_I"
   },
   "outputs": [],
   "source": [
    "# Splitting data into train, test and Cross Validation set\n",
    "from sklearn.model_selection import train_test_split\n",
    "X_train, X_test, y_train, y_test = train_test_split(X,y,test_size=0.33, stratify=y)\n",
    "X_train, X_cv, y_train,y_cv = train_test_split(X_train,y_train,test_size=0.33,stratify=y_train)"
   ]
  },
  {
   "cell_type": "code",
   "execution_count": 0,
   "metadata": {
    "colab": {},
    "colab_type": "code",
    "id": "ZpcklC3a7R_P"
   },
   "outputs": [],
   "source": [
    "from sklearn.feature_extraction.text import CountVectorizer, TfidfVectorizer"
   ]
  },
  {
   "cell_type": "markdown",
   "metadata": {
    "colab_type": "text",
    "id": "EnZwVNULb3dO"
   },
   "source": [
    "<h2>1.3 Make Data Model Ready: encoding eassay, and project_title</h2>"
   ]
  },
  {
   "cell_type": "code",
   "execution_count": 0,
   "metadata": {
    "colab": {},
    "colab_type": "code",
    "id": "-SczZKiab3dR"
   },
   "outputs": [],
   "source": [
    "# please write all the code with proper documentation, and proper titles for each subsection\n",
    "# go through documentations and blogs before you start coding\n",
    "# first figure out what to do, and then think about how to do.\n",
    "# reading and understanding error messages will be very much helpfull in debugging your code\n",
    "# make sure you featurize train and test data separatly\n",
    "\n",
    "# when you plot any graph make sure you use \n",
    "    # a. Title, that describes your plot, this will be very helpful to the reader\n",
    "    # b. Legends if needed\n",
    "    # c. X-axis label\n",
    "    # d. Y-axis label\n",
    "vectorizer_essay = CountVectorizer(min_df=10,ngram_range=(1,4), max_features=5000)\n",
    "vectorizer2_essay = TfidfVectorizer(min_df=10,ngram_range=(1,4), max_features=5000)\n",
    "\n",
    "vectorizer_essay.fit(X_train['essay'].values) # fit has to happen only on train data\n",
    "vectorizer2_essay.fit(X_train['essay'].values) # fit has to happen only on train data\n",
    "\n",
    "# we use the fitted CountVectorizer/TfidfVectorizer to convert the text to vector\n",
    "X_train_essay_bow = vectorizer_essay.transform(X_train['essay'].values)\n",
    "X_cv_essay_bow = vectorizer_essay.transform(X_cv['essay'].values)\n",
    "X_test_essay_bow = vectorizer_essay.transform(X_test['essay'].values)\n",
    "# For set 2\n",
    "X_train_essay_tfidf = vectorizer2_essay.transform(X_train['essay'].values)\n",
    "X_cv_essay_tfidf = vectorizer2_essay.transform(X_cv['essay'].values)\n",
    "X_test_essay_tfidf = vectorizer2_essay.transform(X_test['essay'].values)"
   ]
  },
  {
   "cell_type": "code",
   "execution_count": 7,
   "metadata": {
    "colab": {
     "base_uri": "https://localhost:8080/",
     "height": 85
    },
    "colab_type": "code",
    "id": "TBn3ExqIX43M",
    "outputId": "21f9e1f6-03d1-490c-aac7-098088694d8a"
   },
   "outputs": [
    {
     "name": "stdout",
     "output_type": "stream",
     "text": [
      "After vectorizations\n",
      "(49041, 5000) (49041,)\n",
      "(24155, 5000) (24155,)\n",
      "(36052, 5000) (36052,)\n"
     ]
    }
   ],
   "source": [
    "print(\"After vectorizations\")\n",
    "print(X_train_essay_bow.shape, y_train.shape)\n",
    "print(X_cv_essay_bow.shape, y_cv.shape)\n",
    "print(X_test_essay_bow.shape, y_test.shape)"
   ]
  },
  {
   "cell_type": "markdown",
   "metadata": {
    "colab_type": "text",
    "id": "bGy86kgHb3dX"
   },
   "source": [
    "<h2>1.4 Make Data Model Ready: encoding numerical, categorical features</h2>"
   ]
  },
  {
   "cell_type": "code",
   "execution_count": 0,
   "metadata": {
    "colab": {},
    "colab_type": "code",
    "id": "EfXkofX1b3da"
   },
   "outputs": [],
   "source": [
    "# please write all the code with proper documentation, and proper titles for each subsection\n",
    "# go through documentations and blogs before you start coding \n",
    "# first figure out what to do, and then think about how to do.\n",
    "# reading and understanding error messages will be very much helpfull in debugging your code\n",
    "# make sure you featurize train and test data separatly\n",
    "\n",
    "# when you plot any graph make sure you use \n",
    "    # a. Title, that describes your plot, this will be very helpful to the reader\n",
    "    # b. Legends if needed\n",
    "    # c. X-axis label\n",
    "    # d. Y-axis label"
   ]
  },
  {
   "cell_type": "code",
   "execution_count": 9,
   "metadata": {
    "colab": {
     "base_uri": "https://localhost:8080/",
     "height": 102
    },
    "colab_type": "code",
    "id": "PyGoZj0ggonc",
    "outputId": "406a0b21-9167-4d80-bf89-ac6f864accca"
   },
   "outputs": [
    {
     "data": {
      "text/plain": [
       "array(['ca', 'ut', 'ga', 'wa', 'hi', 'il', 'oh', 'ky', 'sc', 'fl', 'mo',\n",
       "       'mi', 'ny', 'va', 'md', 'tx', 'ms', 'nj', 'az', 'ok', 'pa', 'wv',\n",
       "       'nc', 'co', 'dc', 'ma', 'id', 'al', 'me', 'tn', 'in', 'la', 'ct',\n",
       "       'ar', 'ks', 'or', 'wi', 'ia', 'sd', 'ak', 'mn', 'nm', 'nv', 'mt',\n",
       "       'ri', 'nh', 'wy', 'ne', 'de', 'nd', 'vt'], dtype=object)"
      ]
     },
     "execution_count": 9,
     "metadata": {
      "tags": []
     },
     "output_type": "execute_result"
    }
   ],
   "source": [
    "data['school_state'].unique()"
   ]
  },
  {
   "cell_type": "markdown",
   "metadata": {
    "colab_type": "text",
    "id": "N_YQcYP27R_q"
   },
   "source": [
    "# Encoding categorical features: school_state"
   ]
  },
  {
   "cell_type": "code",
   "execution_count": 12,
   "metadata": {
    "colab": {
     "base_uri": "https://localhost:8080/",
     "height": 85
    },
    "colab_type": "code",
    "id": "OGH-VYRy7R_t",
    "outputId": "4a25bff9-a3e2-4928-b0d9-20f93cd98ba2"
   },
   "outputs": [
    {
     "name": "stdout",
     "output_type": "stream",
     "text": [
      "After vectorizations\n",
      "(49041, 51) (49041,)\n",
      "(24155, 51) (24155,)\n",
      "(36052, 51) (36052,)\n"
     ]
    }
   ],
   "source": [
    "vectorizer_ss = CountVectorizer()\n",
    "#vectorizer2_ss = TfidfVectorizer()\n",
    "\n",
    "vectorizer_ss.fit(X_train['school_state'].values) # fit has to happen only on train data\n",
    "#vectorizer2_ss.fit(X_train['school_state'].values) # fit has to happen only on train data\n",
    "\n",
    "# we use the fitted CountVectorizer/TfidfVectorizer to convert the text to vector\n",
    "X_train_state_ohe = vectorizer_ss.transform(X_train['school_state'].values)\n",
    "X_cv_state_ohe = vectorizer_ss.transform(X_cv['school_state'].values)\n",
    "X_test_state_ohe = vectorizer_ss.transform(X_test['school_state'].values)\n",
    "# For set 2\n",
    "# X_train_state_ohe2 = vectorizer2_ss.transform(X_train['school_state'].values)\n",
    "# X_cv_state_ohe2 = vectorizer2_ss.transform(X_cv['school_state'].values)\n",
    "# X_test_state_ohe2 = vectorizer2_ss.transform(X_test['school_state'].values)\n",
    "\n",
    "print(\"After vectorizations\")\n",
    "print(X_train_state_ohe.shape, y_train.shape)\n",
    "print(X_cv_state_ohe.shape, y_cv.shape)\n",
    "print(X_test_state_ohe.shape, y_test.shape)"
   ]
  },
  {
   "cell_type": "code",
   "execution_count": 14,
   "metadata": {
    "colab": {
     "base_uri": "https://localhost:8080/",
     "height": 119
    },
    "colab_type": "code",
    "id": "eP3jX7GchEXw",
    "outputId": "1aa5d278-4122-4c63-c627-dd55839cf01c"
   },
   "outputs": [
    {
     "data": {
      "text/plain": [
       "mrs        57272\n",
       "ms         38955\n",
       "mr         10648\n",
       "teacher     2360\n",
       "dr            13\n",
       "Name: teacher_prefix, dtype: int64"
      ]
     },
     "execution_count": 14,
     "metadata": {
      "tags": []
     },
     "output_type": "execute_result"
    }
   ],
   "source": [
    "data['teacher_prefix'].value_counts()"
   ]
  },
  {
   "cell_type": "markdown",
   "metadata": {
    "colab_type": "text",
    "id": "VVo51xE27R_0"
   },
   "source": [
    "# Encoding categorical features: teacher_prefix"
   ]
  },
  {
   "cell_type": "code",
   "execution_count": 15,
   "metadata": {
    "colab": {
     "base_uri": "https://localhost:8080/",
     "height": 102
    },
    "colab_type": "code",
    "id": "ORYw-DJ77R_3",
    "outputId": "abc5a2ca-7fca-4a16-c121-ba1547de84f7"
   },
   "outputs": [
    {
     "name": "stdout",
     "output_type": "stream",
     "text": [
      "After vectorizations\n",
      "(49041, 5) (49041,)\n",
      "(24155, 5) (24155,)\n",
      "(36052, 5) (36052,)\n",
      "====================================================================================================\n"
     ]
    }
   ],
   "source": [
    "vectorizer_tp = CountVectorizer()\n",
    "#vectorizer2_tp = TfidfVectorizer()\n",
    "\n",
    "vectorizer_tp.fit(X_train['teacher_prefix'].values) # fit has to happen only on train data\n",
    "#vectorizer2_tp.fit(X_train['teacher_prefix'].values) # fit has to happen only on train data\n",
    "\n",
    "# we use the fitted CountVectorizer/TfidfVectorizer to convert the text to vector\n",
    "X_train_teacher_ohe = vectorizer_tp.transform(X_train['teacher_prefix'].values)\n",
    "X_cv_teacher_ohe = vectorizer_tp.transform(X_cv['teacher_prefix'].values)\n",
    "X_test_teacher_ohe = vectorizer_tp.transform(X_test['teacher_prefix'].values)\n",
    "\n",
    "# For set 2\n",
    "# X_train_teacher_ohe2 = vectorizer2_tp.transform(X_train['teacher_prefix'].values)\n",
    "# X_cv_teacher_ohe2 = vectorizer2_tp.transform(X_cv['teacher_prefix'].values)\n",
    "# X_test_teacher_ohe2 = vectorizer2_tp.transform(X_test['teacher_prefix'].values)\n",
    "\n",
    "print(\"After vectorizations\")\n",
    "print(X_train_teacher_ohe.shape, y_train.shape)\n",
    "print(X_cv_teacher_ohe.shape, y_cv.shape)\n",
    "print(X_test_teacher_ohe.shape, y_test.shape)\n",
    "print(\"=\"*100)"
   ]
  },
  {
   "cell_type": "code",
   "execution_count": 16,
   "metadata": {
    "colab": {
     "base_uri": "https://localhost:8080/",
     "height": 102
    },
    "colab_type": "code",
    "id": "qnxH01sPhUrL",
    "outputId": "d3247033-a674-409d-fd88-b8f652210a6b"
   },
   "outputs": [
    {
     "data": {
      "text/plain": [
       "grades_prek_2    44225\n",
       "grades_3_5       37137\n",
       "grades_6_8       16923\n",
       "grades_9_12      10963\n",
       "Name: project_grade_category, dtype: int64"
      ]
     },
     "execution_count": 16,
     "metadata": {
      "tags": []
     },
     "output_type": "execute_result"
    }
   ],
   "source": [
    "data['project_grade_category'].value_counts()"
   ]
  },
  {
   "cell_type": "markdown",
   "metadata": {
    "colab_type": "text",
    "id": "XPqjQRIy7R__"
   },
   "source": [
    "# Encoding categorical features: project_grade_category"
   ]
  },
  {
   "cell_type": "code",
   "execution_count": 17,
   "metadata": {
    "colab": {
     "base_uri": "https://localhost:8080/",
     "height": 102
    },
    "colab_type": "code",
    "id": "KC3wUPpe7SAB",
    "outputId": "c2dfd134-c392-4eec-df22-395613d80b8b"
   },
   "outputs": [
    {
     "name": "stdout",
     "output_type": "stream",
     "text": [
      "After vectorizations\n",
      "(49041, 4) (49041,)\n",
      "(24155, 4) (24155,)\n",
      "(36052, 4) (36052,)\n",
      "====================================================================================================\n"
     ]
    }
   ],
   "source": [
    "vectorizer_pgc = CountVectorizer()\n",
    "#vectorizer2_pgc = TfidfVectorizer()\n",
    "\n",
    "vectorizer_pgc.fit(X_train['project_grade_category'].values) # fit has to happen only on train data\n",
    "#vectorizer2_pgc.fit(X_train['project_grade_category'].values) # fit has to happen only on train data\n",
    "\n",
    "# we use the fitted CountVectorizer/TfidfVectorizer to convert the text to vector\n",
    "X_train_grade_ohe = vectorizer_pgc.transform(X_train['project_grade_category'].values)\n",
    "X_cv_grade_ohe = vectorizer_pgc.transform(X_cv['project_grade_category'].values)\n",
    "X_test_grade_ohe = vectorizer_pgc.transform(X_test['project_grade_category'].values)\n",
    "# For set 2\n",
    "# X_train_grade_ohe2 = vectorizer2_pgc.transform(X_train['project_grade_category'].values)\n",
    "# X_cv_grade_ohe2 = vectorizer2_pgc.transform(X_cv['project_grade_category'].values)\n",
    "# X_test_grade_ohe2 = vectorizer2_pgc.transform(X_test['project_grade_category'].values)\n",
    "\n",
    "print(\"After vectorizations\")\n",
    "print(X_train_grade_ohe.shape, y_train.shape)\n",
    "print(X_cv_grade_ohe.shape, y_cv.shape)\n",
    "print(X_test_grade_ohe.shape, y_test.shape)\n",
    "print(\"=\"*100)"
   ]
  },
  {
   "cell_type": "code",
   "execution_count": 19,
   "metadata": {
    "colab": {
     "base_uri": "https://localhost:8080/",
     "height": 34
    },
    "colab_type": "code",
    "id": "kbcL7j1OhfH7",
    "outputId": "03423833-a92e-4b9f-b0af-0a3912cbd98b"
   },
   "outputs": [
    {
     "data": {
      "text/plain": [
       "51"
      ]
     },
     "execution_count": 19,
     "metadata": {
      "tags": []
     },
     "output_type": "execute_result"
    }
   ],
   "source": [
    "len(data['clean_categories'].value_counts())"
   ]
  },
  {
   "cell_type": "markdown",
   "metadata": {
    "colab_type": "text",
    "id": "JTkNrONK7SAG"
   },
   "source": [
    "# Encoding categorical features: clean_categories"
   ]
  },
  {
   "cell_type": "code",
   "execution_count": 20,
   "metadata": {
    "colab": {
     "base_uri": "https://localhost:8080/",
     "height": 102
    },
    "colab_type": "code",
    "id": "AQDbnXlX7SAI",
    "outputId": "46ea6f12-7f42-4765-81ad-6bdbc66a280b"
   },
   "outputs": [
    {
     "name": "stdout",
     "output_type": "stream",
     "text": [
      "After vectorizations\n",
      "(49041, 9) (49041,)\n",
      "(24155, 9) (24155,)\n",
      "(36052, 9) (36052,)\n",
      "====================================================================================================\n"
     ]
    }
   ],
   "source": [
    "vectorizer_cc = CountVectorizer()\n",
    "#vectorizer2_cc = TfidfVectorizer()\n",
    "\n",
    "vectorizer_cc.fit(X_train['clean_categories'].values) # fit has to happen only on train data\n",
    "#vectorizer2_cc.fit(X_train['clean_categories'].values) # fit has to happen only on train data\n",
    "\n",
    "# we use the fitted CountVectorizer/TfidfVectorizer to convert the text to vector\n",
    "X_train_clean_categories_ohe = vectorizer_cc.transform(X_train['clean_categories'].values)\n",
    "X_cv_clean_categories_ohe = vectorizer_cc.transform(X_cv['clean_categories'].values)\n",
    "X_test_clean_categories_ohe = vectorizer_cc.transform(X_test['clean_categories'].values)\n",
    "# For set 2\n",
    "# X_train_clean_categories_ohe2 = vectorizer2_cc.transform(X_train['clean_categories'].values)\n",
    "# X_cv_clean_categories_ohe2 = vectorizer2_cc.transform(X_cv['clean_categories'].values)\n",
    "# X_test_clean_categories_ohe2 = vectorizer2_cc.transform(X_test['clean_categories'].values)\n",
    "\n",
    "print(\"After vectorizations\")\n",
    "print(X_train_clean_categories_ohe.shape, y_train.shape)\n",
    "print(X_cv_clean_categories_ohe.shape, y_cv.shape)\n",
    "print(X_test_clean_categories_ohe.shape, y_test.shape)\n",
    "print(\"=\"*100)"
   ]
  },
  {
   "cell_type": "markdown",
   "metadata": {
    "colab_type": "text",
    "id": "OqNF6Ib97SAO"
   },
   "source": [
    "# Encoding categorical features: clean_subcategories"
   ]
  },
  {
   "cell_type": "code",
   "execution_count": 24,
   "metadata": {
    "colab": {
     "base_uri": "https://localhost:8080/",
     "height": 102
    },
    "colab_type": "code",
    "id": "6oLaZPMR7SAR",
    "outputId": "83638843-53b6-4e38-bb10-98071135202d"
   },
   "outputs": [
    {
     "name": "stdout",
     "output_type": "stream",
     "text": [
      "After vectorizations\n",
      "(49041, 30) (49041,)\n",
      "(24155, 30) (24155,)\n",
      "(36052, 30) (36052,)\n",
      "====================================================================================================\n"
     ]
    }
   ],
   "source": [
    "vectorizer_cs = CountVectorizer()\n",
    "#vectorizer2_cs = TfidfVectorizer()\n",
    "\n",
    "vectorizer_cs.fit(X_train['clean_subcategories'].values) # fit has to happen only on train data\n",
    "#vectorizer2_cs.fit(X_train['clean_subcategories'].values) # fit has to happen only on train data\n",
    "\n",
    "# we use the fitted CountVectorizer/TfidfVectorizer to convert the text to vector\n",
    "X_train_clean_subcategories_ohe = vectorizer_cs.transform(X_train['clean_subcategories'].values)\n",
    "X_cv_clean_subcategories_ohe = vectorizer_cs.transform(X_cv['clean_subcategories'].values)\n",
    "X_test_clean_subcategories_ohe = vectorizer_cs.transform(X_test['clean_subcategories'].values)\n",
    "# For Set 2\n",
    "# X_train_clean_subcategories_ohe2 = vectorizer2_cs.transform(X_train['clean_subcategories'].values)\n",
    "# X_cv_clean_subcategories_ohe2 = vectorizer2_cs.transform(X_cv['clean_subcategories'].values)\n",
    "# X_test_clean_subcategories_ohe2 = vectorizer2_cs.transform(X_test['clean_subcategories'].values)\n",
    "\n",
    "print(\"After vectorizations\")\n",
    "print(X_train_clean_subcategories_ohe.shape, y_train.shape)\n",
    "print(X_cv_clean_subcategories_ohe.shape, y_cv.shape)\n",
    "print(X_test_clean_subcategories_ohe.shape, y_test.shape)\n",
    "print(\"=\"*100)"
   ]
  },
  {
   "cell_type": "markdown",
   "metadata": {
    "colab_type": "text",
    "id": "oMc6-xMq7SAd"
   },
   "source": [
    "# Encoding numerical features: price"
   ]
  },
  {
   "cell_type": "code",
   "execution_count": 25,
   "metadata": {
    "colab": {
     "base_uri": "https://localhost:8080/",
     "height": 102
    },
    "colab_type": "code",
    "id": "r7o3xlWG7SAf",
    "outputId": "9de7e3b2-002a-42e1-856f-2bfa3833b424"
   },
   "outputs": [
    {
     "name": "stdout",
     "output_type": "stream",
     "text": [
      "After vectorizations\n",
      "(49041, 1) (49041,)\n",
      "(24155, 1) (24155,)\n",
      "(36052, 1) (36052,)\n",
      "====================================================================================================\n"
     ]
    }
   ],
   "source": [
    "from sklearn.preprocessing import Normalizer\n",
    "normalizer_price = Normalizer()\n",
    "# Reshapes dataset\n",
    "# array.reshape(-1, 1) to 2D if your data has a single feature \n",
    "normalizer_price.fit(X_train['price'].values.reshape(1,-1))\n",
    "\n",
    "X_train_price_norm = normalizer_price.transform(X_train['price'].values.reshape(-1,1))\n",
    "X_cv_price_norm = normalizer_price.transform(X_cv['price'].values.reshape(-1,1))\n",
    "X_test_price_norm = normalizer_price.transform(X_test['price'].values.reshape(-1,1))\n",
    "\n",
    "print(\"After vectorizations\")\n",
    "print(X_train_price_norm.shape, y_train.shape)\n",
    "print(X_cv_price_norm.shape, y_cv.shape)\n",
    "print(X_test_price_norm.shape, y_test.shape)\n",
    "print(\"=\"*100)"
   ]
  },
  {
   "cell_type": "markdown",
   "metadata": {
    "colab_type": "text",
    "id": "6x4eae4R7SAo"
   },
   "source": [
    "# Encoding numerical features: teacher_no_of_prev_posted_projects"
   ]
  },
  {
   "cell_type": "code",
   "execution_count": 28,
   "metadata": {
    "colab": {
     "base_uri": "https://localhost:8080/",
     "height": 102
    },
    "colab_type": "code",
    "id": "gVUzc75i7SAq",
    "outputId": "99ba930f-d23a-4b6b-a857-9d0a1e803a66"
   },
   "outputs": [
    {
     "name": "stdout",
     "output_type": "stream",
     "text": [
      "After vectorizations\n",
      "(49041, 1) (49041,)\n",
      "(24155, 1) (24155,)\n",
      "(36052, 1) (36052,)\n",
      "====================================================================================================\n"
     ]
    }
   ],
   "source": [
    "from sklearn.preprocessing import Normalizer\n",
    "normalizer_tnppp = Normalizer()\n",
    "# Reshapes dataset\n",
    "# array.reshape(-1, 1) to 2D if your data has a single feature \n",
    "normalizer_tnppp.fit(X_train['price'].values.reshape(1,-1))\n",
    "\n",
    "X_train_tnppp_norm = normalizer_tnppp.transform(X_train['teacher_number_of_previously_posted_projects'].values.reshape(-1,1))\n",
    "X_cv_tnppp_norm = normalizer_tnppp.transform(X_cv['teacher_number_of_previously_posted_projects'].values.reshape(-1,1))\n",
    "X_test_tnppp_norm = normalizer_tnppp.transform(X_test['teacher_number_of_previously_posted_projects'].values.reshape(-1,1))\n",
    "# X_train_tnppp_norm = X_train['teacher_number_of_previously_posted_projects'].values.reshape(-1,1)\n",
    "# X_cv_tnppp_norm = X_cv['teacher_number_of_previously_posted_projects'].values.reshape(-1,1)\n",
    "# X_test_tnppp_norm = X_test['teacher_number_of_previously_posted_projects'].values.reshape(-1,1)\n",
    "\n",
    "print(\"After vectorizations\")\n",
    "print(X_train_tnppp_norm.shape, y_train.shape)\n",
    "print(X_cv_tnppp_norm.shape, y_cv.shape)\n",
    "print(X_test_tnppp_norm.shape, y_test.shape)\n",
    "print(\"=\"*100)"
   ]
  },
  {
   "cell_type": "code",
   "execution_count": 0,
   "metadata": {
    "colab": {},
    "colab_type": "code",
    "id": "DAkhNFBZE3sK"
   },
   "outputs": [],
   "source": [
    " # Concatinating all the features"
   ]
  },
  {
   "cell_type": "code",
   "execution_count": 30,
   "metadata": {
    "colab": {
     "base_uri": "https://localhost:8080/",
     "height": 187
    },
    "colab_type": "code",
    "id": "ybh2TdKFFCDV",
    "outputId": "a357fd07-8784-4d8d-c6cb-f77b23875860"
   },
   "outputs": [
    {
     "name": "stdout",
     "output_type": "stream",
     "text": [
      "Final Data matrix1 for BOW\n",
      "(49041, 5101) (49041,)\n",
      "(24155, 5101) (24155,)\n",
      "(36052, 5101) (36052,)\n",
      "====================================================================================================\n",
      "Final Data matrix2 for Tfidf\n",
      "(49041, 5101) (49041,)\n",
      "(24155, 5101) (24155,)\n",
      "(36052, 5101) (36052,)\n",
      "====================================================================================================\n"
     ]
    }
   ],
   "source": [
    "from scipy.sparse import hstack\n",
    "X_tr = hstack((X_train_essay_bow, X_train_state_ohe, X_train_teacher_ohe, X_train_grade_ohe, X_train_price_norm, X_train_clean_categories_ohe,X_train_clean_subcategories_ohe,X_train_tnppp_norm)).tocsr()\n",
    "X_cr = hstack((X_cv_essay_bow, X_cv_state_ohe, X_cv_teacher_ohe, X_cv_grade_ohe, X_cv_price_norm, X_cv_clean_categories_ohe,X_cv_clean_subcategories_ohe,X_cv_tnppp_norm)).tocsr()\n",
    "X_te = hstack((X_test_essay_bow, X_test_state_ohe, X_test_teacher_ohe, X_test_grade_ohe, X_test_price_norm, X_test_clean_categories_ohe,X_test_clean_subcategories_ohe,X_test_tnppp_norm)).tocsr()\n",
    "\n",
    "X_tr2 = hstack((X_train_essay_tfidf, X_train_state_ohe, X_train_teacher_ohe, X_train_grade_ohe, X_train_price_norm, X_train_clean_categories_ohe,X_train_clean_subcategories_ohe,X_train_tnppp_norm)).tocsr()\n",
    "X_cr2 = hstack((X_cv_essay_tfidf, X_cv_state_ohe, X_cv_teacher_ohe, X_cv_grade_ohe, X_cv_price_norm, X_cv_clean_categories_ohe,X_cv_clean_subcategories_ohe,X_cv_tnppp_norm)).tocsr()\n",
    "X_te2 = hstack((X_test_essay_tfidf, X_test_state_ohe, X_test_teacher_ohe, X_test_grade_ohe, X_test_price_norm, X_test_clean_categories_ohe,X_test_clean_subcategories_ohe,X_test_tnppp_norm)).tocsr()\n",
    "\n",
    "print(\"Final Data matrix1 for BOW\")\n",
    "print(X_tr.shape, y_train.shape)\n",
    "print(X_cr.shape, y_cv.shape)\n",
    "print(X_te.shape, y_test.shape)\n",
    "print(\"=\"*100)\n",
    "\n",
    "print(\"Final Data matrix2 for Tfidf\")\n",
    "print(X_tr2.shape, y_train.shape)\n",
    "print(X_cr2.shape, y_cv.shape)\n",
    "print(X_te2.shape, y_test.shape)\n",
    "print(\"=\"*100)"
   ]
  },
  {
   "cell_type": "code",
   "execution_count": 31,
   "metadata": {
    "colab": {
     "base_uri": "https://localhost:8080/",
     "height": 400
    },
    "colab_type": "code",
    "id": "XcXMHFbR7SAw",
    "outputId": "57e6dc8a-fdeb-41b3-e07e-b31b41399a67"
   },
   "outputs": [
    {
     "data": {
      "text/html": [
       "<div>\n",
       "<style scoped>\n",
       "    .dataframe tbody tr th:only-of-type {\n",
       "        vertical-align: middle;\n",
       "    }\n",
       "\n",
       "    .dataframe tbody tr th {\n",
       "        vertical-align: top;\n",
       "    }\n",
       "\n",
       "    .dataframe thead th {\n",
       "        text-align: right;\n",
       "    }\n",
       "</style>\n",
       "<table border=\"1\" class=\"dataframe\">\n",
       "  <thead>\n",
       "    <tr style=\"text-align: right;\">\n",
       "      <th></th>\n",
       "      <th>school_state</th>\n",
       "      <th>teacher_prefix</th>\n",
       "      <th>project_grade_category</th>\n",
       "      <th>teacher_number_of_previously_posted_projects</th>\n",
       "      <th>project_is_approved</th>\n",
       "      <th>clean_categories</th>\n",
       "      <th>clean_subcategories</th>\n",
       "      <th>essay</th>\n",
       "      <th>price</th>\n",
       "    </tr>\n",
       "  </thead>\n",
       "  <tbody>\n",
       "    <tr>\n",
       "      <th>0</th>\n",
       "      <td>ca</td>\n",
       "      <td>mrs</td>\n",
       "      <td>grades_prek_2</td>\n",
       "      <td>53</td>\n",
       "      <td>1</td>\n",
       "      <td>math_science</td>\n",
       "      <td>appliedsciences health_lifescience</td>\n",
       "      <td>i fortunate enough use fairy tale stem kits cl...</td>\n",
       "      <td>725.05</td>\n",
       "    </tr>\n",
       "    <tr>\n",
       "      <th>1</th>\n",
       "      <td>ut</td>\n",
       "      <td>ms</td>\n",
       "      <td>grades_3_5</td>\n",
       "      <td>4</td>\n",
       "      <td>1</td>\n",
       "      <td>specialneeds</td>\n",
       "      <td>specialneeds</td>\n",
       "      <td>imagine 8 9 years old you third grade classroo...</td>\n",
       "      <td>213.03</td>\n",
       "    </tr>\n",
       "    <tr>\n",
       "      <th>2</th>\n",
       "      <td>ca</td>\n",
       "      <td>mrs</td>\n",
       "      <td>grades_prek_2</td>\n",
       "      <td>10</td>\n",
       "      <td>1</td>\n",
       "      <td>literacy_language</td>\n",
       "      <td>literacy</td>\n",
       "      <td>having class 24 students comes diverse learner...</td>\n",
       "      <td>329.00</td>\n",
       "    </tr>\n",
       "  </tbody>\n",
       "</table>\n",
       "</div>"
      ],
      "text/plain": [
       "  school_state  ...   price\n",
       "0           ca  ...  725.05\n",
       "1           ut  ...  213.03\n",
       "2           ca  ...  329.00\n",
       "\n",
       "[3 rows x 9 columns]"
      ]
     },
     "execution_count": 31,
     "metadata": {
      "tags": []
     },
     "output_type": "execute_result"
    }
   ],
   "source": [
    "data.head(3)"
   ]
  },
  {
   "cell_type": "markdown",
   "metadata": {
    "colab_type": "text",
    "id": "yYHPYadYb3dh"
   },
   "source": [
    "<h2>1.5 Appling NB on different kind of featurization as mentioned in the instructions</h2>\n",
    "\n",
    "<br>Apply NB on different kind of featurization as mentioned in the instructions\n",
    "<br> For Every model that you work on make sure you do the step 2 and step 3 of instrucations"
   ]
  },
  {
   "cell_type": "code",
   "execution_count": 0,
   "metadata": {
    "colab": {},
    "colab_type": "code",
    "id": "DNwqilFxb3di"
   },
   "outputs": [],
   "source": [
    "# please write all the code with proper documentation, and proper titles for each subsection\n",
    "# go through documentations and blogs before you start coding\n",
    "# first figure out what to do, and then think about how to do.\n",
    "# reading and understanding error messages will be very much helpfull in debugging your code\n",
    "# when you plot any graph make sure you use \n",
    "    # a. Title, that describes your plot, this will be very helpful to the reader\n",
    "    # b. Legends if needed\n",
    "    # c. X-axis label\n",
    "    # d. Y-axis label"
   ]
  },
  {
   "cell_type": "code",
   "execution_count": 0,
   "metadata": {
    "colab": {},
    "colab_type": "code",
    "id": "JSly5yXlASN5"
   },
   "outputs": [],
   "source": [
    "from sklearn.naive_bayes import MultinomialNB"
   ]
  },
  {
   "cell_type": "code",
   "execution_count": 0,
   "metadata": {
    "colab": {},
    "colab_type": "code",
    "id": "G0JNrCi5HtS2"
   },
   "outputs": [],
   "source": [
    "import numpy as np\n",
    "import pandas as pd\n",
    "import matplotlib.pyplot as plt\n",
    "import math"
   ]
  },
  {
   "cell_type": "code",
   "execution_count": 0,
   "metadata": {
    "colab": {},
    "colab_type": "code",
    "id": "TrrgK_a7klUd"
   },
   "outputs": [],
   "source": [
    "parameters = {'alpha':[0.0001,0.001,0.01,0.1,1,10,100,1000]}"
   ]
  },
  {
   "cell_type": "code",
   "execution_count": 0,
   "metadata": {
    "colab": {},
    "colab_type": "code",
    "id": "YEV193ZnkWRC"
   },
   "outputs": [],
   "source": [
    "from sklearn.model_selection import GridSearchCV\n",
    "mnb_gs = MultinomialNB()\n",
    "clf_gs = GridSearchCV(mnb_gs,parameters,cv=4,scoring='roc_auc',return_train_score=True)\n",
    "clf_gs.fit(X_tr,y_train)\n",
    "results_gs = pd.DataFrame(clf_gs.cv_results_)\n",
    "#results_gs"
   ]
  },
  {
   "cell_type": "code",
   "execution_count": 41,
   "metadata": {
    "colab": {
     "base_uri": "https://localhost:8080/",
     "height": 295
    },
    "colab_type": "code",
    "id": "zWbAEXDvl86b",
    "outputId": "0240df47-802f-4f84-f846-49e6d1ef0bd7"
   },
   "outputs": [
    {
     "data": {
      "image/png": "[encoded data removed]",
      "text/plain": [
       "<Figure size 432x288 with 1 Axes>"
      ]
     },
     "metadata": {
      "tags": []
     },
     "output_type": "display_data"
    }
   ],
   "source": [
    "results_gs = results_gs.sort_values(['param_alpha'])\n",
    "train_auc= results_gs['mean_train_score']\n",
    "train_auc_std= results_gs['std_train_score']\n",
    "cv_auc = results_gs['mean_test_score'] \n",
    "cv_auc_std= results_gs['std_test_score']\n",
    "laplaceS_alpha =  results_gs['param_alpha']\n",
    "laplaceS_alpha = list(map(lambda x: np.log10(x),laplaceS_alpha))\n",
    "plt.plot(laplaceS_alpha, train_auc, label='Train AUC')\n",
    "plt.plot(laplaceS_alpha, cv_auc, label='CV AUC')\n",
    "plt.scatter(laplaceS_alpha, train_auc, label='Train AUC points')\n",
    "plt.scatter(laplaceS_alpha, cv_auc, label='CV AUC points')\n",
    "\n",
    "plt.legend()\n",
    "plt.xlabel(\"Laplace Soomthing(alpha), with log: hyperparameter\")\n",
    "plt.ylabel(\"AUC\")\n",
    "plt.title(\"Hyper parameter Vs AUC plot(BOW implementation)\")\n",
    "plt.grid()\n",
    "plt.show()"
   ]
  },
  {
   "cell_type": "code",
   "execution_count": 0,
   "metadata": {
    "colab": {},
    "colab_type": "code",
    "id": "EkhX6-yKCbB2"
   },
   "outputs": [],
   "source": [
    "# from sklearn.model_selection import RandomizedSearchCV\n",
    "# mnb = MultinomialNB()\n",
    "# clf = RandomizedSearchCV(mnb,parameters,cv=4,scoring='roc_auc',return_train_score=True)\n",
    "# clf.fit(X_tr,y_train)\n",
    "# results = pd.DataFrame.from_dict(clf.cv_results_)\n",
    "# results = results.sort_values(['param_alpha'])\n",
    "# train_auc= results['mean_train_score']\n",
    "# train_auc_std= results['std_train_score']\n",
    "# cv_auc = results['mean_test_score'] \n",
    "# cv_auc_std= results['std_test_score']\n",
    "# laplaceS_alpha =  results['param_alpha']\n",
    "# laplaceS_alpha = list(map(lambda x: np.log10(x),laplaceS_alpha))\n",
    "# plt.plot(laplaceS_alpha, train_auc, label='Train AUC')\n",
    "# plt.plot(laplaceS_alpha, cv_auc, label='CV AUC')\n",
    "# plt.scatter(laplaceS_alpha, train_auc, label='Train AUC points')\n",
    "# plt.scatter(laplaceS_alpha, cv_auc, label='CV AUC points')\n",
    "\n",
    "# plt.legend()\n",
    "# plt.xlabel(\"Laplace Soomthing(alpha), with log: hyperparameter\")\n",
    "# plt.ylabel(\"AUC\")\n",
    "# plt.title(\"Hyper parameter Vs AUC plot(BOW implementation)\")\n",
    "# plt.grid()\n",
    "# plt.show()\n",
    "\n",
    "# results.head()"
   ]
  },
  {
   "cell_type": "markdown",
   "metadata": {
    "colab_type": "text",
    "id": "xEJHdGNa0yR7"
   },
   "source": [
    "# Observation BOW Implementation \n",
    "1. Gap between Train AUC and CV AUC is less when alpha is 100"
   ]
  },
  {
   "cell_type": "code",
   "execution_count": 44,
   "metadata": {
    "colab": {
     "base_uri": "https://localhost:8080/",
     "height": 295
    },
    "colab_type": "code",
    "id": "mm_gfJ5JRUn0",
    "outputId": "bbcdd79d-2812-40d2-f955-ed0e5c3a1c8c"
   },
   "outputs": [
    {
     "data": {
      "image/png": "[encoded data removed]",
      "text/plain": [
       "<Figure size 432x288 with 1 Axes>"
      ]
     },
     "metadata": {
      "tags": []
     },
     "output_type": "display_data"
    }
   ],
   "source": [
    "mnb_tfidf = MultinomialNB()\n",
    "clf = GridSearchCV(mnb_tfidf,parameters,cv=4,scoring='roc_auc',return_train_score=True)\n",
    "clf.fit(X_tr2,y_train)\n",
    "results = pd.DataFrame.from_dict(clf.cv_results_)\n",
    "results = results.sort_values(['param_alpha'])\n",
    "train_auc= results['mean_train_score']\n",
    "train_auc_std= results['std_train_score']\n",
    "cv_auc = results['mean_test_score'] \n",
    "cv_auc_std= results['std_test_score']\n",
    "laplaceS_alpha =  results['param_alpha']\n",
    "laplaceS_alpha = list(map(lambda x: np.log10(x),laplaceS_alpha))\n",
    "plt.plot(laplaceS_alpha, train_auc, label='Train AUC')\n",
    "plt.plot(laplaceS_alpha, cv_auc, label='CV AUC')\n",
    "plt.scatter(laplaceS_alpha, train_auc, label='Train AUC points')\n",
    "plt.scatter(laplaceS_alpha, cv_auc, label='CV AUC points')\n",
    "\n",
    "plt.legend()\n",
    "plt.xlabel(\"Laplace Soomthing(alpha), with log: hyperparameter\")\n",
    "plt.ylabel(\"AUC\")\n",
    "plt.title(\"Hyper parameter Vs AUC plot(Tfidf implementation)\")\n",
    "plt.grid()\n",
    "plt.show()\n",
    "\n",
    "#results.head(2)"
   ]
  },
  {
   "cell_type": "markdown",
   "metadata": {
    "colab_type": "text",
    "id": "lzbp6waF18mN"
   },
   "source": [
    "# Observatoin Tfidf implementation\n",
    "1. Gap between Train AUC and CV AUC is less when alpha is 10, 100 and 1000\n",
    "2. choosing alpha = 10, as gap is low and AUC is high than others."
   ]
  },
  {
   "cell_type": "code",
   "execution_count": 46,
   "metadata": {
    "colab": {
     "base_uri": "https://localhost:8080/",
     "height": 295
    },
    "colab_type": "code",
    "id": "BASvVXZ4RyrV",
    "outputId": "ec8c51b0-b4af-4c6e-b114-7a0d9375ce60"
   },
   "outputs": [
    {
     "data": {
      "image/png": "[encoded data removed]",
      "text/plain": [
       "<Figure size 432x288 with 1 Axes>"
      ]
     },
     "metadata": {
      "tags": []
     },
     "output_type": "display_data"
    }
   ],
   "source": [
    "from sklearn.metrics import roc_curve, auc\n",
    "mnb = MultinomialNB(alpha=100)\n",
    "mnb.fit(X_tr,y_train)\n",
    "\n",
    "y_train_pred =  mnb.predict_proba(X_tr)[:,1] #mnb.predict(X_tr,)\n",
    "y_test_pred = mnb.predict_proba(X_te)[:,1]\n",
    "\n",
    "train_fpr, train_tpr, tr_thresholds = roc_curve(y_train, y_train_pred)\n",
    "test_fpr, test_tpr, te_thresholds = roc_curve(y_test, y_test_pred)\n",
    "\n",
    "plt.plot(train_fpr, train_tpr, label=\"Train AUC =\"+str(auc(train_fpr, train_tpr)))\n",
    "plt.plot(test_fpr, test_tpr, label=\"Test AUC =\"+str(auc(test_fpr, test_tpr)))\n",
    "plt.legend()\n",
    "plt.xlabel(\"FPR\")\n",
    "plt.ylabel(\"TPR\")\n",
    "plt.title(\"ROC_AUC CURVE(BOW implementation)\")\n",
    "plt.grid()\n",
    "plt.show()"
   ]
  },
  {
   "cell_type": "code",
   "execution_count": 47,
   "metadata": {
    "colab": {
     "base_uri": "https://localhost:8080/",
     "height": 295
    },
    "colab_type": "code",
    "id": "Tc38pXoYRvyQ",
    "outputId": "954f29cc-4b1d-46ba-df2c-f71951a44e19"
   },
   "outputs": [
    {
     "data": {
      "image/png": "[encoded data removed]",
      "text/plain": [
       "<Figure size 432x288 with 1 Axes>"
      ]
     },
     "metadata": {
      "tags": []
     },
     "output_type": "display_data"
    }
   ],
   "source": [
    "from sklearn.metrics import roc_curve, auc\n",
    "mnb2 = MultinomialNB(alpha=10)\n",
    "mnb2.fit(X_tr2,y_train)\n",
    "\n",
    "y_train_pred2 = mnb2.predict_proba(X_tr2)[:,1]\n",
    "y_test_pred2 = mnb2.predict_proba(X_te2)[:,1]\n",
    "\n",
    "train_fpr2, train_tpr2, tr_thresholds2 = roc_curve(y_train, y_train_pred2)\n",
    "test_fpr2, test_tpr2, te_thresholds2 = roc_curve(y_test, y_test_pred2)\n",
    "\n",
    "plt.plot(train_fpr2, train_tpr2, label=\"Train AUC =\"+str(auc(train_fpr2, train_tpr2)))\n",
    "plt.plot(test_fpr2, test_tpr2, label=\"Test AUC =\"+str(auc(test_fpr2, test_tpr2)))\n",
    "plt.legend()\n",
    "plt.xlabel(\"FPR\")\n",
    "plt.ylabel(\"TPR\")\n",
    "plt.title(\"ROC_AUC CURVE(Tfidf implementation)\")\n",
    "plt.grid()\n",
    "plt.show()"
   ]
  },
  {
   "cell_type": "code",
   "execution_count": 0,
   "metadata": {
    "colab": {},
    "colab_type": "code",
    "id": "CXXHdl7vUvuz"
   },
   "outputs": [],
   "source": [
    "# we are writing our own function for predict, with defined thresould\n",
    "# we will pick a threshold that will give the least fpr\n",
    "def find_best_threshold(threshould, fpr, tpr):\n",
    "    t = threshould[np.argmax(tpr*(1-fpr))]\n",
    "    # (tpr*(1-fpr)) will be maximum if your fpr is very low and tpr is very high\n",
    "    print(\"the maximum value of tpr*(1-fpr)\", max(tpr*(1-fpr)), \"for threshold\", np.round(t,3))\n",
    "    return t\n",
    "\n",
    "def predict_with_best_t(proba, threshould):\n",
    "    predictions = []\n",
    "    for i in proba:\n",
    "        if i>=threshould:\n",
    "            predictions.append(1)\n",
    "        else:\n",
    "            predictions.append(0)\n",
    "    return predictions"
   ]
  },
  {
   "cell_type": "markdown",
   "metadata": {
    "colab_type": "text",
    "id": "-ehIQYdcTjoS"
   },
   "source": [
    "# Confution Matrix (BOW implementation)"
   ]
  },
  {
   "cell_type": "code",
   "execution_count": 50,
   "metadata": {
    "colab": {
     "base_uri": "https://localhost:8080/",
     "height": 136
    },
    "colab_type": "code",
    "id": "8Cwnn08MRyzq",
    "outputId": "142b971d-bfc2-4eee-fa72-01613947b3ee"
   },
   "outputs": [
    {
     "name": "stdout",
     "output_type": "stream",
     "text": [
      "the maximum value of tpr*(1-fpr) 0.3951663283586649 for threshold 1.0\n",
      "Train confusion matrix\n",
      "[[ 4828  2598]\n",
      " [16321 25294]]\n",
      "Test confusion matrix\n",
      "[[ 3361  2098]\n",
      " [12016 18577]]\n"
     ]
    }
   ],
   "source": [
    "from sklearn.metrics import confusion_matrix\n",
    "best_t = find_best_threshold(tr_thresholds, train_fpr, train_tpr)\n",
    "print(\"Train confusion matrix\")\n",
    "print(confusion_matrix(y_train, predict_with_best_t(y_train_pred, best_t)))\n",
    "print(\"Test confusion matrix\")\n",
    "print(confusion_matrix(y_test, predict_with_best_t(y_test_pred, best_t)))"
   ]
  },
  {
   "cell_type": "markdown",
   "metadata": {
    "colab_type": "text",
    "id": "6Z5xojw8TteB"
   },
   "source": [
    "# Confution Matrix (Tfidf implementation)"
   ]
  },
  {
   "cell_type": "code",
   "execution_count": 52,
   "metadata": {
    "colab": {
     "base_uri": "https://localhost:8080/",
     "height": 136
    },
    "colab_type": "code",
    "id": "MmmWrLXsTZQA",
    "outputId": "415bf4ce-d816-4e3b-e919-992d02679fa0"
   },
   "outputs": [
    {
     "name": "stdout",
     "output_type": "stream",
     "text": [
      "the maximum value of tpr*(1-fpr) 0.3643843558579296 for threshold 0.944\n",
      "Train confusion matrix\n",
      "[[ 4663  2763]\n",
      " [17466 24149]]\n",
      "Test confusion matrix\n",
      "[[ 3175  2284]\n",
      " [12995 17598]]\n"
     ]
    }
   ],
   "source": [
    "from sklearn.metrics import confusion_matrix\n",
    "best_t2 = find_best_threshold(tr_thresholds2, train_fpr2, train_tpr2)\n",
    "print(\"Train confusion matrix\")\n",
    "print(confusion_matrix(y_train, predict_with_best_t(y_train_pred2, best_t2)))\n",
    "print(\"Test confusion matrix\")\n",
    "print(confusion_matrix(y_test, predict_with_best_t(y_test_pred2, best_t2)))"
   ]
  },
  {
   "cell_type": "markdown",
   "metadata": {
    "colab_type": "text",
    "id": "K-eGBd7yUHvu"
   },
   "source": [
    "# Top 20 features (BOW implementaion)"
   ]
  },
  {
   "cell_type": "code",
   "execution_count": 0,
   "metadata": {
    "colab": {},
    "colab_type": "code",
    "id": "0AWtT2O__1gC"
   },
   "outputs": [],
   "source": [
    "abs_val_feature_log_prob = [abs(x) for x in mnb.feature_log_prob_[0]] #Converts every value to abs value"
   ]
  },
  {
   "cell_type": "code",
   "execution_count": 0,
   "metadata": {
    "colab": {},
    "colab_type": "code",
    "id": "7zeKZ-HJRy4A"
   },
   "outputs": [],
   "source": [
    "#mnb.feature_log_prob_[0].argmax()\n",
    "top20features_arg = sorted(range(len(abs_val_feature_log_prob)), key=lambda i: abs_val_feature_log_prob[i])[-20:]"
   ]
  },
  {
   "cell_type": "code",
   "execution_count": 56,
   "metadata": {
    "colab": {
     "base_uri": "https://localhost:8080/",
     "height": 51
    },
    "colab_type": "code",
    "id": "tVAsMkiC_A24",
    "outputId": "f9b8b400-2799-45f6-f99d-8761ddc6d1ee"
   },
   "outputs": [
    {
     "name": "stdout",
     "output_type": "stream",
     "text": [
      "Index of the top 20 features\n",
      "[470, 590, 642, 644, 757, 1777, 3964, 4416, 4441, 4455, 4457, 4464, 4685, 5026, 5028, 5039, 5046, 5050, 5051, 5077]\n"
     ]
    }
   ],
   "source": [
    "print(\"Index of the top 20 features\")\n",
    "print(sorted(top20features_arg))"
   ]
  },
  {
   "cell_type": "code",
   "execution_count": 0,
   "metadata": {
    "colab": {},
    "colab_type": "code",
    "id": "VtcghoLtqBgJ"
   },
   "outputs": [],
   "source": [
    "allFeatures = vectorizer_essay.get_feature_names() + vectorizer_cc.get_feature_names()+vectorizer_cs.get_feature_names() \\\n",
    "              + vectorizer_pgc.get_feature_names()+vectorizer_ss.get_feature_names()+vectorizer_tp.get_feature_names()  "
   ]
  },
  {
   "cell_type": "code",
   "execution_count": 78,
   "metadata": {
    "colab": {
     "base_uri": "https://localhost:8080/",
     "height": 374
    },
    "colab_type": "code",
    "id": "Sjuwc2BLrCjl",
    "outputId": "c70ab1fb-3013-4a59-befd-68da8f0103db"
   },
   "outputs": [
    {
     "name": "stdout",
     "output_type": "stream",
     "text": [
      "Top 20 Features in case of BOW implementation\n"
     ]
    },
    {
     "data": {
      "text/plain": [
       "['these chromebooks',\n",
       " 'chairs help',\n",
       " 'chromebooks students',\n",
       " 'the chromebooks',\n",
       " 'grades_3_5',\n",
       " 'ny',\n",
       " 'chromebooks allow',\n",
       " 'color printer',\n",
       " 'graphing',\n",
       " 'these chairs',\n",
       " 'using ipads',\n",
       " 'these stools',\n",
       " 'boogie',\n",
       " 'stools allow',\n",
       " 'literacy',\n",
       " 'the wobble',\n",
       " 'az',\n",
       " 'dc',\n",
       " 'mathematics',\n",
       " 'de']"
      ]
     },
     "execution_count": 78,
     "metadata": {
      "tags": []
     },
     "output_type": "execute_result"
    }
   ],
   "source": [
    "top20features = []\n",
    "for i in top20features_arg:\n",
    "  top20features.append(allFeatures[i])\n",
    "print(\"Top 20 Features in case of BOW implementation\")\n",
    "top20features"
   ]
  },
  {
   "cell_type": "markdown",
   "metadata": {
    "colab_type": "text",
    "id": "fCeMuN4nUOPl"
   },
   "source": [
    "# Top 20 features (Tfidf implementation)"
   ]
  },
  {
   "cell_type": "code",
   "execution_count": 0,
   "metadata": {
    "colab": {},
    "colab_type": "code",
    "id": "QmlqLHmfUUIJ"
   },
   "outputs": [],
   "source": [
    "abs_val_feature_log_prob_tfidf = [abs(x) for x in mnb2.feature_log_prob_[0]] #Converts every value to abs value"
   ]
  },
  {
   "cell_type": "code",
   "execution_count": 0,
   "metadata": {
    "colab": {},
    "colab_type": "code",
    "id": "daAWNSV-UUoV"
   },
   "outputs": [],
   "source": [
    "top20features_arg_tfidf = sorted(range(len(abs_val_feature_log_prob_tfidf)), key=lambda i: abs_val_feature_log_prob_tfidf[i])[-20:]"
   ]
  },
  {
   "cell_type": "code",
   "execution_count": 70,
   "metadata": {
    "colab": {
     "base_uri": "https://localhost:8080/",
     "height": 51
    },
    "colab_type": "code",
    "id": "-hXkXIIDUUs_",
    "outputId": "0883ba8e-c24a-4c1c-bb0e-d20b9783cf17"
   },
   "outputs": [
    {
     "name": "stdout",
     "output_type": "stream",
     "text": [
      "Index of the top 20 features\n",
      "[385, 470, 489, 589, 590, 642, 643, 644, 757, 912, 1777, 2134, 3584, 3964, 4416, 4441, 4455, 4457, 4464, 4685]\n"
     ]
    }
   ],
   "source": [
    "print(\"Index of the top 20 features\")\n",
    "print(sorted(top20features_arg_tfidf))"
   ]
  },
  {
   "cell_type": "code",
   "execution_count": 0,
   "metadata": {
    "colab": {},
    "colab_type": "code",
    "id": "4xfM1Ywdrz3F"
   },
   "outputs": [],
   "source": [
    "allFeatures_tfidf = vectorizer2_essay.get_feature_names() + vectorizer_cc.get_feature_names()+vectorizer_cs.get_feature_names() \\\n",
    "                    + vectorizer_pgc.get_feature_names()+vectorizer_ss.get_feature_names()+vectorizer_tp.get_feature_names()  "
   ]
  },
  {
   "cell_type": "code",
   "execution_count": 80,
   "metadata": {
    "colab": {
     "base_uri": "https://localhost:8080/",
     "height": 374
    },
    "colab_type": "code",
    "id": "pWaOue0YlQN-",
    "outputId": "85f4886b-b92e-481c-fbe5-8166dcc92711"
   },
   "outputs": [
    {
     "name": "stdout",
     "output_type": "stream",
     "text": [
      "Top 20 Features in case of Tfidf implementation\n"
     ]
    },
    {
     "data": {
      "text/plain": [
       "['these chromebooks',\n",
       " 'chairs help',\n",
       " 'chromebooks students',\n",
       " 'the chromebooks',\n",
       " 'grades_3_5',\n",
       " 'ny',\n",
       " 'chromebooks allow',\n",
       " 'color printer',\n",
       " 'graphing',\n",
       " 'these chairs',\n",
       " 'using ipads',\n",
       " 'these stools',\n",
       " 'boogie',\n",
       " 'stools allow',\n",
       " 'literacy',\n",
       " 'the wobble',\n",
       " 'az',\n",
       " 'dc',\n",
       " 'mathematics',\n",
       " 'de']"
      ]
     },
     "execution_count": 80,
     "metadata": {
      "tags": []
     },
     "output_type": "execute_result"
    }
   ],
   "source": [
    "top20features_tfidf = []\n",
    "for i in top20features_arg_tfidf:\n",
    "  top20features_tfidf.append(allFeatures[i])\n",
    "print(\"Top 20 Features in case of Tfidf implementation\")\n",
    "top20features"
   ]
  },
  {
   "cell_type": "markdown",
   "metadata": {
    "colab_type": "text",
    "id": "lS9hIHdib3dp"
   },
   "source": [
    "<h1>3. Summary</h1>\n",
    "\n",
    "<br> as mentioned in the step 5 of instructions"
   ]
  },
  {
   "cell_type": "markdown",
   "metadata": {
    "colab_type": "text",
    "id": "OhYHjKXDmgi-"
   },
   "source": [
    "<table>\n",
    "  <tr>\n",
    "  <th>Vectorizer</th>\n",
    "  <th>Model</th>\n",
    "  <th>Hyper Parameter</th>\n",
    "  <th>AUC</th>\n",
    "  </tr>\n",
    "  <tr>\n",
    "  <td>BOW</td>\n",
    "  <td>GridSearch</td>\n",
    "  <td>100</td>\n",
    "  <td>0.64</td>\n",
    "  </tr>\n",
    "  <tr>\n",
    "  <td>Tfidf</td>\n",
    "  <td>GridSearch</td>\n",
    "  <td>10</td>\n",
    "  <td>0.61</td>\n",
    "  </tr>\n",
    "</table>"
   ]
  }
 ],
 "metadata": {
  "colab": {
   "collapsed_sections": [],
   "name": "dk_deepak_nita@gmail.com_6.ipynb",
   "provenance": [],
   "version": "0.3.2"
  },
  "kernelspec": {
   "display_name": "Python 3",
   "language": "python",
   "name": "python3"
  },
  "language_info": {
   "codemirror_mode": {
    "name": "ipython",
    "version": 3
   },
   "file_extension": ".py",
   "mimetype": "text/x-python",
   "name": "python",
   "nbconvert_exporter": "python",
   "pygments_lexer": "ipython3",
   "version": "3.6.5"
  }
 },
 "nbformat": 4,
 "nbformat_minor": 1
}
